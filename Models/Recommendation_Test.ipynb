{
 "cells": [
  {
   "cell_type": "code",
   "execution_count": 57,
   "metadata": {},
   "outputs": [],
   "source": [
    "# Import required libraries\n",
    "import pandas as pd\n",
    "import numpy as np\n",
    "import ast\n",
    "from sklearn.preprocessing import MinMaxScaler\n",
    "from sklearn.metrics.pairwise import cosine_similarity\n",
    "from sklearn.feature_extraction.text import TfidfVectorizer\n",
    "import matplotlib.pyplot as plt"
   ]
  },
  {
   "cell_type": "code",
   "execution_count": 58,
   "metadata": {},
   "outputs": [],
   "source": [
    "#Loadd the product catalog\n",
    "product_catalog_df =pd.read_csv (\"C:/data/Work/Data_processing/Feature_Engineering/Feature_product_catalog.csv\")"
   ]
  },
  {
   "cell_type": "code",
   "execution_count": 59,
   "metadata": {},
   "outputs": [],
   "source": [
    "# Load the customer survey dataset\n",
    "customer_survey_df = pd.read_csv(\"C:/data/Work/Data_processing/Feature_Engineering/Feature_customer_survey.csv\")"
   ]
  },
  {
   "cell_type": "code",
   "execution_count": 60,
   "metadata": {},
   "outputs": [
    {
     "name": "stdout",
     "output_type": "stream",
     "text": [
      "{'Shape': (100, 25), 'Columns': ['Product ID', 'Product Name', 'Category', 'Material', 'Size', 'Special_features', 'Customer Type', 'Price', 'Payment Type', 'Sellable Online', 'Sales Volume', 'Return Rate', 'Storage Cost', 'Seasonality Score', 'Implicit Feedback', 'Sales_to_Return_Ratio', 'Revenue_Per_Product', 'Online_Sellability_Score', 'Storage_Efficiency_Score', 'High_Demand_Indicator', 'Implicit_Feedback_Score', 'Top_Rated', 'Likelihood_of_Purchase', 'Customer_Interest_Score', 'Expert_Judgment_Score'], 'Missing Values': {'Product ID': 0, 'Product Name': 0, 'Category': 0, 'Material': 0, 'Size': 0, 'Special_features': 0, 'Customer Type': 0, 'Price': 0, 'Payment Type': 0, 'Sellable Online': 0, 'Sales Volume': 0, 'Return Rate': 0, 'Storage Cost': 0, 'Seasonality Score': 0, 'Implicit Feedback': 0, 'Sales_to_Return_Ratio': 0, 'Revenue_Per_Product': 0, 'Online_Sellability_Score': 0, 'Storage_Efficiency_Score': 0, 'High_Demand_Indicator': 0, 'Implicit_Feedback_Score': 0, 'Top_Rated': 0, 'Likelihood_of_Purchase': 0, 'Customer_Interest_Score': 0, 'Expert_Judgment_Score': 0}, 'Sample Data':    Product ID           Product Name                Category Material    Size  \\\n",
      "0           1   Kitchen Pantry Shelf        Kitchen & Dining     Wood  Medium   \n",
      "1           2  Ottoman Storage Bench  Storage & Organization   Fabric   Large   \n",
      "2           3       Rustic Bookshelf  Storage & Organization     Wood   Large   \n",
      "3           4        Rattan Armchair         Sofas & Seating   Velvet  Medium   \n",
      "4           5     Glass Dining Table                  Tables    Glass   Large   \n",
      "\n",
      "  Special_features Customer Type    Price      Payment Type  Sellable Online  \\\n",
      "0          Durable        Member  2530.23        debit card                1   \n",
      "1         Foldable        Normal  1784.65        debit card                1   \n",
      "2          Durable        Member  1325.18       credit card                1   \n",
      "3          Durable        Member  1789.55  cash on delivery                0   \n",
      "4          Durable        Normal  1915.92        debit card                0   \n",
      "\n",
      "   ...  Sales_to_Return_Ratio  Revenue_Per_Product  Online_Sellability_Score  \\\n",
      "0  ...              13.469894            549059.91                  0.217217   \n",
      "1  ...              68.768473           1245685.70                  0.698699   \n",
      "2  ...              57.985697           1289400.14                  0.973974   \n",
      "3  ...              27.088949            359699.55                  0.000000   \n",
      "4  ...              53.997683           1785637.44                  0.000000   \n",
      "\n",
      "   Storage_Efficiency_Score High_Demand_Indicator  Implicit_Feedback_Score  \\\n",
      "0               3180.190617                     0                        1   \n",
      "1               8610.532246                     0                        1   \n",
      "2              39001.819117                     1                        0   \n",
      "3               2080.511019                     0                       -1   \n",
      "4              14958.845941                     1                        1   \n",
      "\n",
      "   Top_Rated  Likelihood_of_Purchase  Customer_Interest_Score  \\\n",
      "0          1                0.004351                        1   \n",
      "1          1                0.013996                        1   \n",
      "2          0                0.019510                        0   \n",
      "3          0                0.004030                       -1   \n",
      "4          1                0.018688                        1   \n",
      "\n",
      "   Expert_Judgment_Score  \n",
      "0                      1  \n",
      "1                      2  \n",
      "2                      2  \n",
      "3                      0  \n",
      "4                      3  \n",
      "\n",
      "[5 rows x 25 columns]}\n"
     ]
    }
   ],
   "source": [
    "# Display basic information about the dataset\n",
    "product_info = {\n",
    "    \"Shape\": product_catalog_df.shape,\n",
    "    \"Columns\": list(product_catalog_df.columns),\n",
    "    \"Missing Values\": product_catalog_df.isnull().sum().to_dict(),\n",
    "    \"Sample Data\": product_catalog_df.head()}\n",
    "print(product_info)"
   ]
  },
  {
   "cell_type": "code",
   "execution_count": 61,
   "metadata": {},
   "outputs": [
    {
     "name": "stdout",
     "output_type": "stream",
     "text": [
      "            Product Name                                  Combined_Features\n",
      "0   Kitchen Pantry Shelf  Kitchen & Dining Kitchen & Dining Kitchen & Di...\n",
      "1  Ottoman Storage Bench  Storage & Organization Storage & Organization ...\n",
      "2       Rustic Bookshelf  Storage & Organization Storage & Organization ...\n",
      "3        Rattan Armchair  Sofas & Seating Sofas & Seating Sofas & Seatin...\n",
      "4     Glass Dining Table  Tables Tables Tables Tables Glass Glass Glass ...\n",
      "5   Upholstered armchair  Sofas & Seating Sofas & Seating Sofas & Seatin...\n",
      "6      Wooden Side Table  Tables Tables Tables Tables Wood Wood Wood Wat...\n",
      "7      Smart Office Desk  Tables Tables Tables Tables Wood Wood Wood Dur...\n",
      "8          Bistro Tables  Tables Tables Tables Tables Unknown Unknown Un...\n",
      "9  Open Closet Organizer  Bedroom Furniture Bedroom Furniture Bedroom Fu...\n"
     ]
    }
   ],
   "source": [
    "# Select relevant columns for recommendations\n",
    "selected_features = [\n",
    "    \"Product Name\", \"Category\", \"Material\", \"Size\", \"Special_features\", \n",
    "    \"Sales Volume\", \"Likelihood_of_Purchase\", \"Revenue_Per_Product\", \"Expert_Judgment_Score\"\n",
    "]\n",
    "\n",
    "# Drop missing values\n",
    "product_catalog_df = product_catalog_df.dropna(subset=selected_features)\n",
    "\n",
    "# Normalize business-related numerical values using MinMaxScaler\n",
    "scaler = MinMaxScaler()\n",
    "scaled_values = scaler.fit_transform(product_catalog_df[[\"Sales Volume\", \"Likelihood_of_Purchase\", \"Revenue_Per_Product\", \"Expert_Judgment_Score\"]])\n",
    "\n",
    "# Add normalized values back to dataframe\n",
    "product_catalog_df[[\"Sales_Score\", \"Purchase_Score\", \"Revenue_Score\", \"Expert_Score\"]] = scaled_values\n",
    "\n",
    "# Function to create feature strings with structured business metrics\n",
    "def create_feature_string(row):\n",
    "    return (\n",
    "        f\"{row['Category']} \" * 4 + \n",
    "        f\"{row['Material']} \" * 3 +  \n",
    "        f\"{row['Special_features']} \" * 2 +  \n",
    "        f\"{row['Size']} \" * 1 +\n",
    "        f\"sales_{round(row['Sales_Score'], 2)} \" + \n",
    "        f\"purchase_{round(row['Purchase_Score'], 2)} \" + \n",
    "        f\"revenue_{round(row['Revenue_Score'], 2)} \" + \n",
    "        f\"expert_{round(row['Expert_Score'], 2)}\"\n",
    "    ).strip()\n",
    "\n",
    "# Apply the function\n",
    "product_catalog_df[\"Combined_Features\"] = product_catalog_df.apply(create_feature_string, axis=1)\n",
    "\n",
    "# Display sample feature combinations\n",
    "print(product_catalog_df[[\"Product Name\", \"Combined_Features\"]].head(10))"
   ]
  },
  {
   "cell_type": "code",
   "execution_count": 62,
   "metadata": {},
   "outputs": [
    {
     "name": "stdout",
     "output_type": "stream",
     "text": [
      "TF-IDF Matrix Shape: (100, 536)\n"
     ]
    }
   ],
   "source": [
    "# Initialize TF-IDF Vectorizer\n",
    "tfidf = TfidfVectorizer(stop_words=\"english\", max_features=1000, ngram_range=(1,2))\n",
    "\n",
    "# Convert Combined_Features column into a TF-IDF matrix\n",
    "tfidf_matrix = tfidf.fit_transform(product_catalog_df[\"Combined_Features\"])\n",
    "\n",
    "# Display matrix shape\n",
    "print(\"TF-IDF Matrix Shape:\", tfidf_matrix.shape)"
   ]
  },
  {
   "cell_type": "code",
   "execution_count": 63,
   "metadata": {},
   "outputs": [
    {
     "name": "stdout",
     "output_type": "stream",
     "text": [
      "Cosine Similarity Matrix Shape: (100, 100)\n",
      "Sample Similarity Scores:\n",
      " [[1.   0.01 0.11 0.07 0.05]\n",
      " [0.01 1.   0.57 0.01 0.02]\n",
      " [0.11 0.57 1.   0.05 0.08]\n",
      " [0.07 0.01 0.05 1.   0.04]\n",
      " [0.05 0.02 0.08 0.04 1.  ]]\n"
     ]
    }
   ],
   "source": [
    "# Compute cosine similarity between product TF-IDF vectors\n",
    "cosine_sim = cosine_similarity(tfidf_matrix)\n",
    "\n",
    "# Display shape of similarity matrix\n",
    "print(\"Cosine Similarity Matrix Shape:\", cosine_sim.shape)\n",
    "\n",
    "# Show a sample of the similarity matrix\n",
    "print(\"Sample Similarity Scores:\\n\", np.round(cosine_sim[:5, :5], 2))\n"
   ]
  },
  {
   "cell_type": "code",
   "execution_count": null,
   "metadata": {},
   "outputs": [],
   "source": [
    "#Content based recommendation system\n",
    "def recommend_products(product_name, product_catalog_df, cosine_sim, top_n=5, min_similarity=0.05):\n",
    "    print(f\"\\nSearching for recommendations for: {product_name}\")\n",
    "    \n",
    "    # Find index of the product in the catalog\n",
    "    product_indices = product_catalog_df[product_catalog_df[\"Product Name\"] == product_name].index\n",
    "\n",
    "    if product_indices.empty:\n",
    "        print(\"Product not found in the dataset.\")\n",
    "        return [f\"Product '{product_name}' not found in the catalog.\"]\n",
    "\n",
    "    product_index = product_indices[0]\n",
    "    similarity_scores = list(enumerate(cosine_sim[product_index]))\n",
    "\n",
    "    # Sort by similarity in descending order\n",
    "    sorted_products = sorted(similarity_scores, key=lambda x: x[1], reverse=True)\n",
    "\n",
    "    recommendations = []\n",
    "    seen_products = set()\n",
    "\n",
    "    for idx, score in sorted_products:\n",
    "        rec_product = product_catalog_df.iloc[idx][\"Product Name\"]\n",
    "\n",
    "        # Skip the same product and low scores\n",
    "        if rec_product == product_name or score < min_similarity:\n",
    "            continue\n",
    "\n",
    "        if rec_product not in seen_products:\n",
    "            print(f\"Checking Product: {rec_product} - Score: {score:.2f}\")\n",
    "            recommendations.append(rec_product)\n",
    "            seen_products.add(rec_product)\n",
    "\n",
    "        if len(recommendations) == top_n:\n",
    "            break\n",
    "\n",
    "    if not recommendations:\n",
    "        print(\"No strong matches found.\")\n",
    "        return [\"No strong matches found. Try another product.\"]\n",
    "    \n",
    "    return recommendations\n",
    "\n",
    "\n",
    "\n",
    "\n",
    "\n"
   ]
  },
  {
   "cell_type": "code",
   "execution_count": 65,
   "metadata": {},
   "outputs": [
    {
     "name": "stdout",
     "output_type": "stream",
     "text": [
      "\n",
      "Searching for recommendations for: Rustic Bookshelf\n",
      "Checking Product: Modern TV Cabinet - Score: 0.69\n",
      "Checking Product: Sliding Door Wardrobe - Score: 0.69\n",
      "Checking Product: Ottoman Storage Bench - Score: 0.60\n",
      "Checking Product: Compact Shoe Rack - Score: 0.58\n",
      "Checking Product: Foldable Sun Lounger - Score: 0.22\n",
      "\n",
      "Recommended Products for 'Rustic Bookshelf':\n",
      "1. Modern TV Cabinet\n",
      "2. Sliding Door Wardrobe\n",
      "3. Ottoman Storage Bench\n",
      "4. Compact Shoe Rack\n",
      "5. Foldable Sun Lounger\n"
     ]
    }
   ],
   "source": [
    "# Use Case to see whether the system works\n",
    "# Finding similar products for a given product\n",
    "product_to_search = \"Rustic Bookshelf\"  \n",
    "recommendations = recommend_products(product_to_search, product_catalog_df, cosine_sim)\n",
    "\n",
    "# Display recommendations\n",
    "print(f\"\\nRecommended Products for '{product_to_search}':\")\n",
    "for i, rec in enumerate(recommendations, 1):\n",
    "    print(f\"{i}. {rec}\")"
   ]
  },
  {
   "cell_type": "code",
   "execution_count": 66,
   "metadata": {},
   "outputs": [],
   "source": [
    "#Collaborative Filtering\n",
    "#Renaming \"Suggested Products\" to \"Product Name\" in the customer survey data\n",
    "\n",
    "if \"Suggested Products\" in customer_survey_df.columns:\n",
    "    customer_survey_df.rename(columns={\"Suggested Products\": \"Product Name\"}, inplace=True)\n",
    "\n",
    "# Convert product lists stored as strings to actual lists\n",
    "customer_survey_df[\"Product Name\"] = customer_survey_df[\"Product Name\"].apply(\n",
    "    lambda x: ast.literal_eval(x) if isinstance(x, str) and x.startswith(\"[\") else [x]\n",
    ")\n",
    "\n",
    "# Expand product list so each product gets its own row\n",
    "customer_survey_df = customer_survey_df.explode(\"Product Name\")\n",
    "\n",
    "# Clean product names (lowercase and remove unwanted spaces)\n",
    "customer_survey_df[\"Product Name\"] = customer_survey_df[\"Product Name\"].str.lower().str.strip()\n",
    "product_catalog_df[\"Product Name\"] = product_catalog_df[\"Product Name\"].str.lower().str.strip()\n",
    "\n",
    "# Remove unmatched products\n",
    "customer_survey_df = customer_survey_df[customer_survey_df[\"Product Name\"].isin(product_catalog_df[\"Product Name\"])]\n",
    "\n",
    "# Keep only needed columns\n",
    "survey_cols = [\"Customer ID\", \"Product Name\", \"Recommendation Score\", \"Purchase Frequency\", \"Review_Sentiment\", \"Engagement_Sentiment\"]\n",
    "customer_survey_df = customer_survey_df[survey_cols]\n",
    "\n",
    "catalog_cols = [\"Product Name\", \"Implicit_Feedback_Score\"]\n",
    "product_catalog_df = product_catalog_df[catalog_cols]\n",
    "\n",
    "# Merge both datasets\n",
    "merged_df = pd.merge(customer_survey_df, product_catalog_df, on=\"Product Name\", how=\"inner\")\n",
    "\n",
    "# Fill missing values\n",
    "merged_df.fillna(0, inplace=True)\n"
   ]
  },
  {
   "cell_type": "code",
   "execution_count": 69,
   "metadata": {},
   "outputs": [
    {
     "name": "stdout",
     "output_type": "stream",
     "text": [
      "   Customer ID      Product Name  Recommendation Score Purchase Frequency  \\\n",
      "0            1  rustic bookshelf             -0.173299            monthly   \n",
      "1            1  rustic bookshelf             -0.173299            monthly   \n",
      "2            1  rustic bookshelf             -0.173299            monthly   \n",
      "3            1  rustic bookshelf             -0.173299            monthly   \n",
      "4            1  rustic bookshelf             -0.173299            monthly   \n",
      "\n",
      "   Review_Sentiment  Engagement_Sentiment  Implicit_Feedback_Score  \n",
      "0                 1                     1                        0  \n",
      "1                 1                     1                        1  \n",
      "2                 1                     1                       -1  \n",
      "3                 1                     1                        0  \n",
      "4                 1                     1                        0  \n"
     ]
    }
   ],
   "source": [
    "print(merged_df.head())\n"
   ]
  },
  {
   "cell_type": "code",
   "execution_count": 70,
   "metadata": {},
   "outputs": [
    {
     "name": "stdout",
     "output_type": "stream",
     "text": [
      "User-Product Interaction Matrix:\n",
      "Product Name  6-piece outdoor dining set  adjustable standing desk  \\\n",
      "Customer ID                                                          \n",
      "1                                    0.0                 -0.173299   \n",
      "2                                    0.0                  0.000000   \n",
      "3                                    0.0                  0.000000   \n",
      "4                                    0.0                  0.000000   \n",
      "5                                    0.0                 -0.699509   \n",
      "\n",
      "Product Name  chaise sofas  compact shoe rack  foldable sun lounger  \\\n",
      "Customer ID                                                           \n",
      "1                  0.00000                0.0                   0.0   \n",
      "2                  0.00000                0.0                   0.0   \n",
      "3                  0.00000                0.0                   0.0   \n",
      "4                  0.24767                0.0                   0.0   \n",
      "5                  0.00000                0.0                   0.0   \n",
      "\n",
      "Product Name  luxury bean bag  minimalist sectional sofa  \\\n",
      "Customer ID                                                \n",
      "1                         0.0                        0.0   \n",
      "2                         0.0                        0.0   \n",
      "3                         0.0                        0.0   \n",
      "4                         0.0                        0.0   \n",
      "5                         0.0                        0.0   \n",
      "\n",
      "Product Name  ottoman storage bench  outdoor patio chair  padded dining chair  \\\n",
      "Customer ID                                                                     \n",
      "1                               0.0             0.000000             0.000000   \n",
      "2                               0.0             0.423073             0.000000   \n",
      "3                               0.0             0.000000            -0.383783   \n",
      "4                               0.0             0.000000             0.000000   \n",
      "5                               0.0             0.000000            -0.699509   \n",
      "\n",
      "Product Name  queen bed with storage  rattan armchair  rustic bookshelf  \\\n",
      "Customer ID                                                               \n",
      "1                                0.0              0.0         -0.173299   \n",
      "2                                0.0              0.0          0.000000   \n",
      "3                                0.0              0.0          0.000000   \n",
      "4                                0.0              0.0          0.000000   \n",
      "5                                0.0              0.0          0.000000   \n",
      "\n",
      "Product Name  sliding door wardrobe  smart office desk  upholstered armchair  \n",
      "Customer ID                                                                   \n",
      "1                               0.0           0.000000                   0.0  \n",
      "2                               0.0           0.000000                   0.0  \n",
      "3                               0.0          -0.383783                   0.0  \n",
      "4                               0.0           0.000000                   0.0  \n",
      "5                               0.0           0.000000                   0.0  \n"
     ]
    }
   ],
   "source": [
    "# Create Final Score (Combining Recommendation Score & Implicit Feedback Score)\n",
    "merged_df[\"Final_Score\"] = merged_df[\"Recommendation Score\"].combine_first(merged_df[\"Implicit_Feedback_Score\"])\n",
    "\n",
    "# Create User-Product Interaction Matrix\n",
    "interaction_matrix = merged_df.pivot_table(index=\"Customer ID\",  # Rows = Customers\n",
    "                                           columns=\"Product Name\",  # Columns = Products\n",
    "                                           values=\"Final_Score\",  # Values = Scores\n",
    "                                           aggfunc=\"mean\")  # Average in case of duplicates\n",
    "\n",
    "# Fill missing values \n",
    "interaction_matrix.fillna(0, inplace=True)\n",
    "\n",
    "#  Display final interaction matrix\n",
    "print(\"User-Product Interaction Matrix:\")\n",
    "print(interaction_matrix.head())"
   ]
  },
  {
   "cell_type": "code",
   "execution_count": 71,
   "metadata": {},
   "outputs": [
    {
     "name": "stdout",
     "output_type": "stream",
     "text": [
      " Top 10 Most Interacted Products:\n",
      "Product Name\n",
      "adjustable standing desk      19\n",
      "smart office desk             15\n",
      "chaise sofas                  13\n",
      "padded dining chair           11\n",
      "rustic bookshelf              11\n",
      "foldable sun lounger          10\n",
      "compact shoe rack              9\n",
      "6-piece outdoor dining set     9\n",
      "upholstered armchair           9\n",
      "outdoor patio chair            9\n",
      "Name: Customer ID, dtype: int64\n",
      "\n",
      " Least Interacted Products:\n",
      "Product Name\n",
      "compact shoe rack             9\n",
      "6-piece outdoor dining set    9\n",
      "upholstered armchair          9\n",
      "outdoor patio chair           9\n",
      "luxury bean bag               9\n",
      "sliding door wardrobe         8\n",
      "ottoman storage bench         6\n",
      "rattan armchair               5\n",
      "minimalist sectional sofa     4\n",
      "queen bed with storage        4\n",
      "Name: Customer ID, dtype: int64\n"
     ]
    }
   ],
   "source": [
    "# Count how many unique customers interacted with each product\n",
    "product_interaction_counts = merged_df.groupby(\"Product Name\")[\"Customer ID\"].nunique().sort_values(ascending=False)\n",
    "\n",
    "# Display top 10 most interacted products\n",
    "print(\" Top 10 Most Interacted Products:\")\n",
    "print(product_interaction_counts.head(10))\n",
    "\n",
    "# Display bottom 10 least interacted products\n",
    "print(\"\\n Least Interacted Products:\")\n",
    "print(product_interaction_counts.tail(10))\n"
   ]
  },
  {
   "cell_type": "code",
   "execution_count": 72,
   "metadata": {},
   "outputs": [
    {
     "name": "stdout",
     "output_type": "stream",
     "text": [
      " Number of Customers Who Bought Only 1 Product: 31\n",
      "\n",
      " Customers Who Bought Only One Product:\n",
      "[20, 22, 18, 15, 14, 6, 8, 2, 4, 23, 57, 40, 31, 37, 48, 62, 58, 74, 78, 73, 72, 66, 76, 79, 91, 92, 84, 81, 82, 85, 95]\n"
     ]
    }
   ],
   "source": [
    "# Find customers who bought only one product\n",
    "single_product_customers = customer_interaction_counts[customer_interaction_counts == 1]\n",
    "\n",
    "print(f\" Number of Customers Who Bought Only 1 Product: {len(single_product_customers)}\")\n",
    "print(\"\\n Customers Who Bought Only One Product:\")\n",
    "print(single_product_customers.index.tolist())\n"
   ]
  },
  {
   "cell_type": "code",
   "execution_count": 76,
   "metadata": {},
   "outputs": [
    {
     "name": "stdout",
     "output_type": "stream",
     "text": [
      "Binary User-Product Matrix Sample:\n",
      "Product Name  6-piece outdoor dining set  adjustable standing desk  \\\n",
      "Customer ID                                                          \n",
      "2                                      0                         0   \n",
      "4                                      0                         0   \n",
      "7                                      0                         1   \n",
      "8                                      0                         0   \n",
      "9                                      0                         0   \n",
      "10                                     1                         0   \n",
      "12                                     0                         1   \n",
      "13                                     0                         0   \n",
      "15                                     0                         0   \n",
      "18                                     0                         0   \n",
      "\n",
      "Product Name  chaise sofas  compact shoe rack  foldable sun lounger  \\\n",
      "Customer ID                                                           \n",
      "2                        0                  0                     0   \n",
      "4                        1                  0                     0   \n",
      "7                        0                  0                     0   \n",
      "8                        0                  0                     1   \n",
      "9                        0                  0                     0   \n",
      "10                       0                  1                     0   \n",
      "12                       0                  0                     0   \n",
      "13                       1                  0                     0   \n",
      "15                       0                  0                     1   \n",
      "18                       0                  0                     0   \n",
      "\n",
      "Product Name  luxury bean bag  minimalist sectional sofa  \\\n",
      "Customer ID                                                \n",
      "2                           0                          0   \n",
      "4                           0                          0   \n",
      "7                           0                          0   \n",
      "8                           0                          0   \n",
      "9                           1                          0   \n",
      "10                          0                          0   \n",
      "12                          0                          0   \n",
      "13                          0                          0   \n",
      "15                          0                          0   \n",
      "18                          0                          0   \n",
      "\n",
      "Product Name  ottoman storage bench  outdoor patio chair  padded dining chair  \\\n",
      "Customer ID                                                                     \n",
      "2                                 0                    1                    0   \n",
      "4                                 0                    0                    0   \n",
      "7                                 0                    0                    0   \n",
      "8                                 0                    0                    0   \n",
      "9                                 0                    0                    0   \n",
      "10                                0                    0                    0   \n",
      "12                                0                    0                    0   \n",
      "13                                0                    0                    0   \n",
      "15                                0                    0                    0   \n",
      "18                                0                    1                    0   \n",
      "\n",
      "Product Name  queen bed with storage  rattan armchair  rustic bookshelf  \\\n",
      "Customer ID                                                               \n",
      "2                                  0                0                 0   \n",
      "4                                  0                0                 0   \n",
      "7                                  0                0                 0   \n",
      "8                                  0                0                 0   \n",
      "9                                  0                0                 0   \n",
      "10                                 0                0                 0   \n",
      "12                                 0                0                 1   \n",
      "13                                 0                0                 0   \n",
      "15                                 0                0                 0   \n",
      "18                                 0                0                 0   \n",
      "\n",
      "Product Name  sliding door wardrobe  smart office desk  upholstered armchair  \n",
      "Customer ID                                                                   \n",
      "2                                 0                  0                     0  \n",
      "4                                 0                  0                     0  \n",
      "7                                 0                  1                     0  \n",
      "8                                 0                  0                     0  \n",
      "9                                 0                  0                     1  \n",
      "10                                0                  0                     0  \n",
      "12                                0                  0                     0  \n",
      "13                                0                  0                     1  \n",
      "15                                0                  0                     0  \n",
      "18                                0                  0                     0  \n"
     ]
    }
   ],
   "source": [
    "# Creating a binary version of the interaction matrix (1 = interacted, 0 = not interacted)\n",
    "binary_matrix = (interaction_matrix > 0).astype(int)\n",
    "\n",
    "# Filter out users who haven’t interacted with any products\n",
    "binary_matrix = binary_matrix[binary_matrix.sum(axis=1) > 0]\n",
    "\n",
    "# Ouput\n",
    "print(\"Binary User-Product Matrix Sample:\")\n",
    "print(binary_matrix.head(10))\n"
   ]
  },
  {
   "cell_type": "code",
   "execution_count": 77,
   "metadata": {},
   "outputs": [
    {
     "name": "stdout",
     "output_type": "stream",
     "text": [
      "Item-Item Similarity Matrix (Sample):\n",
      "Product Name                6-piece outdoor dining set  \\\n",
      "Product Name                                             \n",
      "6-piece outdoor dining set                    1.000000   \n",
      "adjustable standing desk                      0.000000   \n",
      "chaise sofas                                  0.000000   \n",
      "compact shoe rack                             0.338423   \n",
      "foldable sun lounger                          0.000000   \n",
      "\n",
      "Product Name                adjustable standing desk  chaise sofas  \\\n",
      "Product Name                                                         \n",
      "6-piece outdoor dining set                       0.0           0.0   \n",
      "adjustable standing desk                         1.0           0.0   \n",
      "chaise sofas                                     0.0           1.0   \n",
      "compact shoe rack                                0.0           0.0   \n",
      "foldable sun lounger                             0.0           0.0   \n",
      "\n",
      "Product Name                compact shoe rack  foldable sun lounger  \n",
      "Product Name                                                         \n",
      "6-piece outdoor dining set           0.338423                   0.0  \n",
      "adjustable standing desk             0.000000                   0.0  \n",
      "chaise sofas                         0.000000                   0.0  \n",
      "compact shoe rack                    1.000000                   0.0  \n",
      "foldable sun lounger                 0.000000                   1.0  \n"
     ]
    }
   ],
   "source": [
    "# Transpose interaction matrix to get Products as rows and Customers as columns\n",
    "item_user_matrix = interaction_matrix.T\n",
    "\n",
    "# Calculate cosine similarity between products\n",
    "item_similarity = cosine_similarity(item_user_matrix)\n",
    "\n",
    "# Store it in a DataFrame for easier lookup\n",
    "item_similarity_df = pd.DataFrame(\n",
    "    item_similarity,\n",
    "    index=item_user_matrix.index,\n",
    "    columns=item_user_matrix.index\n",
    ")\n",
    "\n",
    "# Output\n",
    "print(\"Item-Item Similarity Matrix (Sample):\")\n",
    "print(item_similarity_df.iloc[:5, :5])\n",
    "\n"
   ]
  },
  {
   "cell_type": "code",
   "execution_count": 79,
   "metadata": {},
   "outputs": [
    {
     "name": "stdout",
     "output_type": "stream",
     "text": [
      "\n",
      "Products similar to 'rustic bookshelf':\n",
      "- padded dining chair (Score: 0.41)\n",
      "- adjustable standing desk (Score: 0.23)\n",
      "- smart office desk (Score: 0.13)\n",
      "- foldable sun lounger (Score: 0.00)\n",
      "- 6-piece outdoor dining set (Score: 0.00)\n"
     ]
    },
    {
     "data": {
      "text/plain": [
       "['padded dining chair',\n",
       " 'adjustable standing desk',\n",
       " 'smart office desk',\n",
       " 'foldable sun lounger',\n",
       " '6-piece outdoor dining set']"
      ]
     },
     "execution_count": 79,
     "metadata": {},
     "output_type": "execute_result"
    }
   ],
   "source": [
    "def recommend_similar_items(product_name, top_n=5):\n",
    "    if product_name not in item_similarity_df.index:\n",
    "        print(f\"Product '{product_name}' not found in the data.\")\n",
    "        return []\n",
    "\n",
    "    # Sort the similarity scores and skip the product itself\n",
    "    similar_scores = item_similarity_df[product_name].sort_values(ascending=False)\n",
    "    top_matches = similar_scores.iloc[1:top_n + 1]\n",
    "\n",
    "    print(f\"\\nProducts similar to '{product_name}':\")\n",
    "    for item, score in top_matches.items():\n",
    "        print(f\"- {item} (Score: {score:.2f})\")\n",
    "\n",
    "    return top_matches.index.tolist()\n",
    "\n",
    "# Example \n",
    "recommend_similar_items(\"rustic bookshelf\")\n"
   ]
  },
  {
   "cell_type": "code",
   "execution_count": null,
   "metadata": {},
   "outputs": [],
   "source": []
  }
 ],
 "metadata": {
  "kernelspec": {
   "display_name": "venv",
   "language": "python",
   "name": "python3"
  },
  "language_info": {
   "codemirror_mode": {
    "name": "ipython",
    "version": 3
   },
   "file_extension": ".py",
   "mimetype": "text/x-python",
   "name": "python",
   "nbconvert_exporter": "python",
   "pygments_lexer": "ipython3",
   "version": "3.13.2"
  }
 },
 "nbformat": 4,
 "nbformat_minor": 2
}
