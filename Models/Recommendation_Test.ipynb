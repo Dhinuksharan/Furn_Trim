{
 "cells": [
  {
   "cell_type": "code",
   "execution_count": 304,
   "metadata": {},
   "outputs": [],
   "source": [
    "# Importing necessary libraries\n",
    "import pandas as pd\n",
    "import ast\n",
    "import numpy as np\n",
    "import random\n",
    "import seaborn as sns\n",
    "from sklearn.metrics.pairwise import cosine_similarity\n",
    "import matplotlib.pyplot as plt\n",
    "from sklearn.feature_extraction.text import TfidfVectorizer\n",
    "from sklearn.preprocessing import StandardScaler"
   ]
  },
  {
   "cell_type": "code",
   "execution_count": 260,
   "metadata": {},
   "outputs": [],
   "source": [
    "product_catalog_df =pd.read_csv (\"C:/data/Work/Data_processing/Feature_Engineering/Feature_product_catalog.csv\")"
   ]
  },
  {
   "cell_type": "code",
   "execution_count": 261,
   "metadata": {},
   "outputs": [
    {
     "name": "stdout",
     "output_type": "stream",
     "text": [
      "{'Shape': (100, 25), 'Columns': ['Product ID', 'Product Name', 'Category', 'Material', 'Size', 'Special_features', 'Customer Type', 'Price', 'Payment Type', 'Sellable Online', 'Sales Volume', 'Return Rate', 'Storage Cost', 'Seasonality Score', 'Implicit Feedback', 'Sales_to_Return_Ratio', 'Revenue_Per_Product', 'Online_Sellability_Score', 'Storage_Efficiency_Score', 'High_Demand_Indicator', 'Implicit_Feedback_Score', 'Top_Rated', 'Likelihood_of_Purchase', 'Customer_Interest_Score', 'Expert_Judgment_Score'], 'Missing Values': {'Product ID': 0, 'Product Name': 0, 'Category': 0, 'Material': 0, 'Size': 0, 'Special_features': 0, 'Customer Type': 0, 'Price': 0, 'Payment Type': 0, 'Sellable Online': 0, 'Sales Volume': 0, 'Return Rate': 0, 'Storage Cost': 0, 'Seasonality Score': 0, 'Implicit Feedback': 0, 'Sales_to_Return_Ratio': 0, 'Revenue_Per_Product': 0, 'Online_Sellability_Score': 0, 'Storage_Efficiency_Score': 0, 'High_Demand_Indicator': 0, 'Implicit_Feedback_Score': 0, 'Top_Rated': 0, 'Likelihood_of_Purchase': 0, 'Customer_Interest_Score': 0, 'Expert_Judgment_Score': 0}, 'Sample Data':    Product ID           Product Name                Category Material    Size  \\\n",
      "0           1   Kitchen Pantry Shelf        Kitchen & Dining     Wood  Medium   \n",
      "1           2  Ottoman Storage Bench  Storage & Organization   Fabric   Large   \n",
      "2           3       Rustic Bookshelf  Storage & Organization     Wood   Large   \n",
      "3           4        Rattan Armchair         Sofas & Seating   Velvet  Medium   \n",
      "4           5     Glass Dining Table                  Tables    Glass   Large   \n",
      "\n",
      "  Special_features Customer Type    Price      Payment Type  Sellable Online  \\\n",
      "0          Durable        Member  2530.23        debit card                1   \n",
      "1         Foldable        Normal  1784.65        debit card                1   \n",
      "2          Durable        Member  1325.18       credit card                1   \n",
      "3          Durable        Member  1789.55  cash on delivery                0   \n",
      "4          Durable        Normal  1915.92        debit card                0   \n",
      "\n",
      "   ...  Sales_to_Return_Ratio  Revenue_Per_Product  Online_Sellability_Score  \\\n",
      "0  ...              13.469894            549059.91                  0.217217   \n",
      "1  ...              68.768473           1245685.70                  0.698699   \n",
      "2  ...              57.985697           1289400.14                  0.973974   \n",
      "3  ...              27.088949            359699.55                  0.000000   \n",
      "4  ...              53.997683           1785637.44                  0.000000   \n",
      "\n",
      "   Storage_Efficiency_Score High_Demand_Indicator  Implicit_Feedback_Score  \\\n",
      "0               3180.190617                     0                        1   \n",
      "1               8610.532246                     0                        1   \n",
      "2              39001.819117                     1                        0   \n",
      "3               2080.511019                     0                       -1   \n",
      "4              14958.845941                     1                        1   \n",
      "\n",
      "   Top_Rated  Likelihood_of_Purchase  Customer_Interest_Score  \\\n",
      "0          1                0.004351                        1   \n",
      "1          1                0.013996                        1   \n",
      "2          0                0.019510                        0   \n",
      "3          0                0.004030                       -1   \n",
      "4          1                0.018688                        1   \n",
      "\n",
      "   Expert_Judgment_Score  \n",
      "0                      1  \n",
      "1                      2  \n",
      "2                      2  \n",
      "3                      0  \n",
      "4                      3  \n",
      "\n",
      "[5 rows x 25 columns]}\n"
     ]
    }
   ],
   "source": [
    "# Display basic information about the dataset\n",
    "product_info = {\n",
    "    \"Shape\": product_catalog_df.shape,\n",
    "    \"Columns\": list(product_catalog_df.columns),\n",
    "    \"Missing Values\": product_catalog_df.isnull().sum().to_dict(),\n",
    "    \"Sample Data\": product_catalog_df.head()}\n",
    "print(product_info)"
   ]
  },
  {
   "cell_type": "code",
   "execution_count": 262,
   "metadata": {},
   "outputs": [
    {
     "name": "stdout",
     "output_type": "stream",
     "text": [
      "            Product Name  \\\n",
      "0   Kitchen Pantry Shelf   \n",
      "1  Ottoman Storage Bench   \n",
      "2       Rustic Bookshelf   \n",
      "3        Rattan Armchair   \n",
      "4     Glass Dining Table   \n",
      "5   Upholstered armchair   \n",
      "6      Wooden Side Table   \n",
      "7      Smart Office Desk   \n",
      "8          Bistro Tables   \n",
      "9  Open Closet Organizer   \n",
      "\n",
      "                                                                                                                                                                          Combined_Features  \n",
      "0                               Kitchen & Dining Kitchen & Dining Kitchen & Dining Kitchen & Dining Wood Wood Wood Durable Durable Medium sales_0.21 purchase_0.21 revenue_0.12 expert_0.33  \n",
      "1  Storage & Organization Storage & Organization Storage & Organization Storage & Organization Fabric Fabric Fabric Foldable Foldable Large sales_0.7 purchase_0.7 revenue_0.27 expert_0.67  \n",
      "2        Storage & Organization Storage & Organization Storage & Organization Storage & Organization Wood Wood Wood Durable Durable Large sales_0.97 purchase_0.97 revenue_0.28 expert_0.67  \n",
      "3                              Sofas & Seating Sofas & Seating Sofas & Seating Sofas & Seating Velvet Velvet Velvet Durable Durable Medium sales_0.19 purchase_0.19 revenue_0.08 expert_0.0  \n",
      "4                                                                      Tables Tables Tables Tables Glass Glass Glass Durable Durable Large sales_0.93 purchase_0.93 revenue_0.39 expert_1.0  \n",
      "5                          Sofas & Seating Sofas & Seating Sofas & Seating Sofas & Seating Plastic Plastic Plastic Foldable Foldable Medium sales_0.7 purchase_0.7 revenue_0.33 expert_0.33  \n",
      "6                                                                    Tables Tables Tables Tables Wood Wood Wood Waterproof Waterproof Small sales_0.31 purchase_0.31 revenue_0.0 expert_0.0  \n",
      "7                                                                         Tables Tables Tables Tables Wood Wood Wood Durable Durable Small sales_0.11 purchase_0.11 revenue_0.05 expert_0.0  \n",
      "8                                                                   Tables Tables Tables Tables Unknown Unknown Unknown Smart Smart Medium sales_0.68 purchase_0.68 revenue_0.5 expert_0.67  \n",
      "9                        Bedroom Furniture Bedroom Furniture Bedroom Furniture Bedroom Furniture Plastic Plastic Plastic Smart Smart Small sales_0.98 purchase_0.98 revenue_0.2 expert_0.33  \n"
     ]
    }
   ],
   "source": [
    "# Select relevant columns for recommendations\n",
    "selected_features = [\n",
    "    \"Product Name\", \"Category\", \"Material\", \"Size\", \"Special_features\", \n",
    "    \"Sales Volume\", \"Likelihood_of_Purchase\", \"Revenue_Per_Product\", \"Expert_Judgment_Score\"\n",
    "]\n",
    "\n",
    "# Drop missing values\n",
    "product_catalog_df = product_catalog_df.dropna(subset=selected_features)\n",
    "\n",
    "# Normalize business-related numerical values using MinMaxScaler\n",
    "scaler = MinMaxScaler()\n",
    "scaled_values = scaler.fit_transform(product_catalog_df[[\"Sales Volume\", \"Likelihood_of_Purchase\", \"Revenue_Per_Product\", \"Expert_Judgment_Score\"]])\n",
    "\n",
    "# Add normalized values back to dataframe\n",
    "product_catalog_df[[\"Sales_Score\", \"Purchase_Score\", \"Revenue_Score\", \"Expert_Score\"]] = scaled_values\n",
    "\n",
    "# Function to create feature strings with structured business metrics\n",
    "def create_feature_string(row):\n",
    "    return (\n",
    "        f\"{row['Category']} \" * 4 + \n",
    "        f\"{row['Material']} \" * 3 +  \n",
    "        f\"{row['Special_features']} \" * 2 +  \n",
    "        f\"{row['Size']} \" * 1 +\n",
    "        f\"sales_{round(row['Sales_Score'], 2)} \" + \n",
    "        f\"purchase_{round(row['Purchase_Score'], 2)} \" + \n",
    "        f\"revenue_{round(row['Revenue_Score'], 2)} \" + \n",
    "        f\"expert_{round(row['Expert_Score'], 2)}\"\n",
    "    ).strip()\n",
    "\n",
    "# Apply the function\n",
    "product_catalog_df[\"Combined_Features\"] = product_catalog_df.apply(create_feature_string, axis=1)\n",
    "\n",
    "# Display sample feature combinations\n",
    "print(product_catalog_df[[\"Product Name\", \"Combined_Features\"]].head(10))"
   ]
  },
  {
   "cell_type": "code",
   "execution_count": 263,
   "metadata": {},
   "outputs": [
    {
     "name": "stdout",
     "output_type": "stream",
     "text": [
      "TF-IDF Matrix Shape: (100, 536)\n"
     ]
    }
   ],
   "source": [
    "# Initialize TF-IDF Vectorizer\n",
    "tfidf = TfidfVectorizer(stop_words=\"english\", max_features=1000, ngram_range=(1,2))\n",
    "\n",
    "# Convert Combined_Features column into a TF-IDF matrix\n",
    "tfidf_matrix = tfidf.fit_transform(product_catalog_df[\"Combined_Features\"])\n",
    "\n",
    "# Display matrix shape\n",
    "print(\"TF-IDF Matrix Shape:\", tfidf_matrix.shape)"
   ]
  },
  {
   "cell_type": "code",
   "execution_count": 264,
   "metadata": {},
   "outputs": [
    {
     "name": "stdout",
     "output_type": "stream",
     "text": [
      "Cosine Similarity Matrix Shape: (100, 100)\n",
      "Sample Similarity Scores:\n",
      " [[1.   0.01 0.11 0.07 0.05]\n",
      " [0.01 1.   0.57 0.01 0.02]\n",
      " [0.11 0.57 1.   0.05 0.08]\n",
      " [0.07 0.01 0.05 1.   0.04]\n",
      " [0.05 0.02 0.08 0.04 1.  ]]\n"
     ]
    }
   ],
   "source": [
    "# Compute cosine similarity between product TF-IDF vectors\n",
    "cosine_sim = cosine_similarity(tfidf_matrix)\n",
    "\n",
    "# Display shape of similarity matrix\n",
    "print(\"Cosine Similarity Matrix Shape:\", cosine_sim.shape)\n",
    "\n",
    "# Show a sample of the similarity matrix\n",
    "print(\"Sample Similarity Scores:\\n\", np.round(cosine_sim[:5, :5], 2))\n"
   ]
  },
  {
   "cell_type": "code",
   "execution_count": 265,
   "metadata": {},
   "outputs": [],
   "source": [
    "def recommend_products(product_name, product_catalog_df, cosine_sim, top_n=5, min_similarity=0.1):\n",
    "    print(f\"\\nSearching for recommendations for: {product_name}\")\n",
    "    \n",
    "    # Find all indices of the selected product name\n",
    "    product_indices = product_catalog_df[product_catalog_df[\"Product Name\"] == product_name].index\n",
    "\n",
    "    if product_indices.empty:\n",
    "        print(\"Product not found in the dataset.\")\n",
    "        return [f\"Product '{product_name}' not found in the catalog.\"]\n",
    "\n",
    "    product_index = product_indices[0]\n",
    "    similarity_scores = list(enumerate(cosine_sim[product_index]))\n",
    "\n",
    "    # Sort by similarity and exclude itself\n",
    "    sorted_products = sorted(similarity_scores, key=lambda x: x[1], reverse=True)[1:]\n",
    "    \n",
    "    recommendations = []\n",
    "    seen_products = set()\n",
    "\n",
    "    for idx, score in sorted_products:\n",
    "        rec_product = product_catalog_df.iloc[idx]\n",
    "\n",
    "        # Print similarity scores for debugging\n",
    "        print(f\"Checking Product: {rec_product['Product Name']} - Score: {score:.2f}\")\n",
    "\n",
    "        # Only add unique product names, avoiding duplicates\n",
    "        if rec_product[\"Product Name\"] not in seen_products and score >= min_similarity:\n",
    "            recommendations.append(rec_product[\"Product Name\"])\n",
    "            seen_products.add(rec_product[\"Product Name\"])\n",
    "\n",
    "        if len(recommendations) == top_n:\n",
    "            break\n",
    "\n",
    "    if not recommendations:\n",
    "        print(\"No strong matches found.\")   \n",
    "    \n",
    "    return recommendations if recommendations else [\"No strong matches found. Try another product.\"]\n",
    "\n",
    "\n",
    "\n",
    "\n",
    "\n"
   ]
  },
  {
   "cell_type": "code",
   "execution_count": 266,
   "metadata": {},
   "outputs": [
    {
     "name": "stdout",
     "output_type": "stream",
     "text": [
      "\n",
      "Searching for recommendations for: Rustic Bookshelf\n",
      "Checking Product: Modern TV Cabinet - Score: 0.69\n",
      "Checking Product: Sliding Door Wardrobe - Score: 0.69\n",
      "Checking Product: Rustic Bookshelf - Score: 0.68\n",
      "Checking Product: Sliding Door Wardrobe - Score: 0.65\n",
      "Checking Product: Sliding Door Wardrobe - Score: 0.62\n",
      "Checking Product: Modern TV Cabinet - Score: 0.62\n",
      "Checking Product: Rustic Bookshelf - Score: 0.61\n",
      "Checking Product: Rustic Bookshelf - Score: 0.60\n",
      "Checking Product: Ottoman Storage Bench - Score: 0.60\n",
      "Checking Product: Rustic Bookshelf - Score: 0.60\n",
      "Checking Product: Sliding Door Wardrobe - Score: 0.58\n",
      "Checking Product: Compact Shoe Rack - Score: 0.58\n",
      "\n",
      "Recommended Products for 'Rustic Bookshelf':\n",
      "1. Modern TV Cabinet\n",
      "2. Sliding Door Wardrobe\n",
      "3. Rustic Bookshelf\n",
      "4. Ottoman Storage Bench\n",
      "5. Compact Shoe Rack\n"
     ]
    }
   ],
   "source": [
    "# Use Case \n",
    "# Find similar products for a given product\n",
    "product_to_search = \"Rustic Bookshelf\"  # Change this to a real product name from your dataset\n",
    "recommendations = recommend_products(product_to_search, product_catalog_df, cosine_sim)\n",
    "\n",
    "# Display recommendations\n",
    "print(f\"\\nRecommended Products for '{product_to_search}':\")\n",
    "for i, rec in enumerate(recommendations, 1):\n",
    "    print(f\"{i}. {rec}\")"
   ]
  },
  {
   "cell_type": "code",
   "execution_count": 246,
   "metadata": {},
   "outputs": [
    {
     "name": "stdout",
     "output_type": "stream",
     "text": [
      "30\n"
     ]
    }
   ],
   "source": [
    "#Checking the number of products in the dataset \n",
    "print(product_catalog_df[\"Product Name\"].nunique()) \n"
   ]
  },
  {
   "cell_type": "code",
   "execution_count": null,
   "metadata": {},
   "outputs": [
    {
     "name": "stdout",
     "output_type": "stream",
     "text": [
      "🔹 Total Products in Catalog: 30\n"
     ]
    }
   ],
   "source": [
    "# Get all unique products from the product catalog\n",
    "all_products = set(product_catalog_df[\"Product Name\"].unique())\n",
    "\n",
    "# Display total count\n",
    "print(f\" Total Products in Catalog: {len(all_products)}\")\n"
   ]
  },
  {
   "cell_type": "code",
   "execution_count": 287,
   "metadata": {},
   "outputs": [],
   "source": [
    "#Collaborative Filtering\n",
    "# Load the product catalog dataset\n",
    "customer_survey_df = pd.read_csv(\"C:/data/Work/Data_processing/Feature_Engineering/Feature_customer_survey.csv\")\n",
    "\n"
   ]
  },
  {
   "cell_type": "code",
   "execution_count": 298,
   "metadata": {},
   "outputs": [
    {
     "name": "stdout",
     "output_type": "stream",
     "text": [
      " Products in Survey but NOT in Catalog: 0\n",
      "[]\n"
     ]
    }
   ],
   "source": [
    "#Rename \"Suggested Products\" to \"Product Name\" in the customer survey data\n",
    "if \"Suggested Products\" in customer_survey_df.columns:\n",
    "    customer_survey_df.rename(columns={\"Suggested Products\": \"Product Name\"}, inplace=True)\n",
    "\n",
    "# Convert \"Product Name\" column from lists stored as strings to actual lists\n",
    "if customer_survey_df[\"Product Name\"].dtype == object:\n",
    "    try:\n",
    "        customer_survey_df[\"Product Name\"] = customer_survey_df[\"Product Name\"].apply(\n",
    "            lambda x: ast.literal_eval(x) if isinstance(x, str) and x.startswith(\"[\") else [x]\n",
    "        )\n",
    "    except Exception as e:\n",
    "        print(f\"Error converting 'Product Name' column: {e}\")\n",
    "\n",
    "# Explode \"Product Name\" column to separate rows for each product\n",
    "customer_survey_df = customer_survey_df.explode(\"Product Name\")\n",
    "\n",
    "# Standardize product names \n",
    "customer_survey_df[\"Product Name\"] = customer_survey_df[\"Product Name\"].str.lower().str.strip()\n",
    "product_catalog_df[\"Product Name\"] = product_catalog_df[\"Product Name\"].str.lower().str.strip()\n",
    "\n",
    "\n",
    "#  Find unmatched products \n",
    "survey_products = set(customer_survey_df[\"Product Name\"])\n",
    "catalog_products = set(product_catalog_df[\"Product Name\"])\n",
    "unmatched_products = survey_products - catalog_products\n",
    "\n",
    "print(f\" Products in Survey but NOT in Catalog: {len(unmatched_products)}\")\n",
    "print(list(unmatched_products))\n",
    "\n",
    "#  Filter out unmatched products\n",
    "customer_survey_df = customer_survey_df[customer_survey_df[\"Product Name\"].isin(catalog_products)]\n",
    "\n",
    "# Selecting relevant columns for collaborative filtering\n",
    "customer_survey_df = customer_survey_df[[\"Customer ID\", \"Product Name\", \"Recommendation Score\", \n",
    "                                         \"Purchase Frequency\", \"Review_Sentiment\", \"Engagement_Sentiment\"]]\n",
    "\n",
    "product_catalog_df = product_catalog_df[[\"Product Name\", \"Implicit_Feedback_Score\"]]\n",
    "\n",
    "#  Merge datasets\n",
    "merged_df = pd.merge(customer_survey_df, product_catalog_df, on=\"Product Name\", how=\"inner\")\n",
    "\n",
    "#  Fill missing values \n",
    "merged_df.fillna(0, inplace=True)\n",
    "\n"
   ]
  },
  {
   "cell_type": "code",
   "execution_count": 299,
   "metadata": {},
   "outputs": [
    {
     "name": "stdout",
     "output_type": "stream",
     "text": [
      "   Customer ID      Product Name  Recommendation Score Purchase Frequency  \\\n",
      "0            1  rustic bookshelf             -0.173299            monthly   \n",
      "1            1  rustic bookshelf             -0.173299            monthly   \n",
      "2            1  rustic bookshelf             -0.173299            monthly   \n",
      "3            1  rustic bookshelf             -0.173299            monthly   \n",
      "4            1  rustic bookshelf             -0.173299            monthly   \n",
      "\n",
      "   Review_Sentiment  Engagement_Sentiment  Implicit_Feedback_Score  \n",
      "0                 1                     1                        0  \n",
      "1                 1                     1                        1  \n",
      "2                 1                     1                       -1  \n",
      "3                 1                     1                        0  \n",
      "4                 1                     1                        0  \n"
     ]
    }
   ],
   "source": [
    "print(merged_df.head())\n"
   ]
  },
  {
   "cell_type": "code",
   "execution_count": 300,
   "metadata": {},
   "outputs": [
    {
     "name": "stdout",
     "output_type": "stream",
     "text": [
      "User-Product Interaction Matrix:\n",
      "Product Name  6-piece outdoor dining set  adjustable standing desk  \\\n",
      "Customer ID                                                          \n",
      "1                                    0.0                 -0.173299   \n",
      "2                                    0.0                  0.000000   \n",
      "3                                    0.0                  0.000000   \n",
      "4                                    0.0                  0.000000   \n",
      "5                                    0.0                 -0.699509   \n",
      "\n",
      "Product Name  chaise sofas  compact shoe rack  foldable sun lounger  \\\n",
      "Customer ID                                                           \n",
      "1                  0.00000                0.0                   0.0   \n",
      "2                  0.00000                0.0                   0.0   \n",
      "3                  0.00000                0.0                   0.0   \n",
      "4                  0.24767                0.0                   0.0   \n",
      "5                  0.00000                0.0                   0.0   \n",
      "\n",
      "Product Name  luxury bean bag  minimalist sectional sofa  \\\n",
      "Customer ID                                                \n",
      "1                         0.0                        0.0   \n",
      "2                         0.0                        0.0   \n",
      "3                         0.0                        0.0   \n",
      "4                         0.0                        0.0   \n",
      "5                         0.0                        0.0   \n",
      "\n",
      "Product Name  ottoman storage bench  outdoor patio chair  padded dining chair  \\\n",
      "Customer ID                                                                     \n",
      "1                               0.0             0.000000             0.000000   \n",
      "2                               0.0             0.423073             0.000000   \n",
      "3                               0.0             0.000000            -0.383783   \n",
      "4                               0.0             0.000000             0.000000   \n",
      "5                               0.0             0.000000            -0.699509   \n",
      "\n",
      "Product Name  queen bed with storage  rattan armchair  rustic bookshelf  \\\n",
      "Customer ID                                                               \n",
      "1                                0.0              0.0         -0.173299   \n",
      "2                                0.0              0.0          0.000000   \n",
      "3                                0.0              0.0          0.000000   \n",
      "4                                0.0              0.0          0.000000   \n",
      "5                                0.0              0.0          0.000000   \n",
      "\n",
      "Product Name  sliding door wardrobe  smart office desk  upholstered armchair  \n",
      "Customer ID                                                                   \n",
      "1                               0.0           0.000000                   0.0  \n",
      "2                               0.0           0.000000                   0.0  \n",
      "3                               0.0          -0.383783                   0.0  \n",
      "4                               0.0           0.000000                   0.0  \n",
      "5                               0.0           0.000000                   0.0  \n"
     ]
    }
   ],
   "source": [
    "# Create Final Score (Combining Recommendation Score & Implicit Feedback Score)\n",
    "merged_df[\"Final_Score\"] = merged_df[\"Recommendation Score\"].combine_first(merged_df[\"Implicit_Feedback_Score\"])\n",
    "\n",
    "# Create User-Product Interaction Matrix\n",
    "interaction_matrix = merged_df.pivot_table(index=\"Customer ID\",  # Rows = Customers\n",
    "                                           columns=\"Product Name\",  # Columns = Products\n",
    "                                           values=\"Final_Score\",  # Values = Scores\n",
    "                                           aggfunc=\"mean\")  # Average in case of duplicates\n",
    "\n",
    "# Fill missing values \n",
    "interaction_matrix.fillna(0, inplace=True)\n",
    "\n",
    "#  Display final interaction matrix\n",
    "print(\"User-Product Interaction Matrix:\")\n",
    "print(interaction_matrix.head())"
   ]
  },
  {
   "cell_type": "code",
   "execution_count": 302,
   "metadata": {},
   "outputs": [
    {
     "name": "stdout",
     "output_type": "stream",
     "text": [
      "❌ Unengaged Products: 14\n",
      "\n",
      "🛑 Products That Are Still Not Engaged:\n",
      "- adjustable bar stool\n",
      "- bistro tables\n",
      "- classic nightstand\n",
      "- expandable kitchen island\n",
      "- garden lounge bench\n",
      "- glass dining table\n",
      "- hanging hammock\n",
      "- industrial console table\n",
      "- king size bed frame\n",
      "- kitchen pantry shelf\n",
      "- large wooden dresser\n",
      "- modern tv cabinet\n",
      "- open closet organizer\n",
      "- wooden side table\n"
     ]
    }
   ],
   "source": [
    "# Extract all products from the catalog\n",
    "all_products = set(product_catalog_df[\"Product Name\"])\n",
    "\n",
    "# Extract all products that have been interacted with in the interaction matrix\n",
    "engaged_products = set(interaction_matrix.columns)\n",
    "\n",
    "# Find the unused products (products in catalog but not in interaction matrix)\n",
    "unused_products = all_products - engaged_products\n",
    "\n",
    "# Display results\n",
    "print(f\"❌ Unengaged Products: {len(unused_products)}\\n\")\n",
    "print(\"🛑 Products That Are Still Not Engaged:\")\n",
    "for product in sorted(unused_products):\n",
    "    print(\"-\", product)\n"
   ]
  },
  {
   "cell_type": "code",
   "execution_count": 309,
   "metadata": {},
   "outputs": [
    {
     "name": "stdout",
     "output_type": "stream",
     "text": [
      "User Similarity Matrix (Cosine, Sample):\n",
      "Customer ID    2    4    7    8    9\n",
      "Customer ID                         \n",
      "2            1.0  0.0  0.0  0.0  0.0\n",
      "4            0.0  1.0  0.0  0.0  0.0\n",
      "7            0.0  0.0  1.0  0.0  0.0\n",
      "8            0.0  0.0  0.0  1.0  0.0\n",
      "9            0.0  0.0  0.0  0.0  1.0\n"
     ]
    }
   ],
   "source": [
    "from sklearn.metrics.pairwise import cosine_similarity\n",
    "import pandas as pd\n",
    "\n",
    "# Convert interaction matrix to binary (1 = interaction, 0 = no interaction)\n",
    "binary_matrix = (interaction_matrix > 0).astype(int)\n",
    "\n",
    "# Remove users with no interactions\n",
    "binary_matrix = binary_matrix.loc[(binary_matrix.sum(axis=1) > 0), :]\n",
    "\n",
    "# Compute cosine similarity\n",
    "user_similarity_cosine = cosine_similarity(binary_matrix)\n",
    "\n",
    "# Convert back to DataFrame\n",
    "user_similarity_cosine_df = pd.DataFrame(\n",
    "    user_similarity_cosine, \n",
    "    index=binary_matrix.index, \n",
    "    columns=binary_matrix.index\n",
    ")\n",
    "\n",
    "# Display sample output\n",
    "print(\"User Similarity Matrix (Cosine, Sample):\")\n",
    "print(user_similarity_cosine_df.iloc[:5, :5])\n",
    "\n",
    "\n",
    "\n",
    "\n",
    "\n"
   ]
  },
  {
   "cell_type": "code",
   "execution_count": 310,
   "metadata": {},
   "outputs": [
    {
     "name": "stdout",
     "output_type": "stream",
     "text": [
      "🛍️ Top 10 Most Interacted Products:\n",
      "Product Name\n",
      "adjustable standing desk      19\n",
      "smart office desk             15\n",
      "chaise sofas                  13\n",
      "padded dining chair           11\n",
      "rustic bookshelf              11\n",
      "foldable sun lounger          10\n",
      "compact shoe rack              9\n",
      "6-piece outdoor dining set     9\n",
      "upholstered armchair           9\n",
      "outdoor patio chair            9\n",
      "Name: Customer ID, dtype: int64\n",
      "\n",
      "🚨 Least Interacted Products:\n",
      "Product Name\n",
      "compact shoe rack             9\n",
      "6-piece outdoor dining set    9\n",
      "upholstered armchair          9\n",
      "outdoor patio chair           9\n",
      "luxury bean bag               9\n",
      "sliding door wardrobe         8\n",
      "ottoman storage bench         6\n",
      "rattan armchair               5\n",
      "minimalist sectional sofa     4\n",
      "queen bed with storage        4\n",
      "Name: Customer ID, dtype: int64\n"
     ]
    }
   ],
   "source": [
    "# Count how many unique customers interacted with each product\n",
    "product_interaction_counts = merged_df.groupby(\"Product Name\")[\"Customer ID\"].nunique().sort_values(ascending=False)\n",
    "\n",
    "# Display top 10 most interacted products\n",
    "print(\"🛍️ Top 10 Most Interacted Products:\")\n",
    "print(product_interaction_counts.head(10))\n",
    "\n",
    "# Display bottom 10 least interacted products\n",
    "print(\"\\n🚨 Least Interacted Products:\")\n",
    "print(product_interaction_counts.tail(10))\n"
   ]
  },
  {
   "cell_type": "code",
   "execution_count": 311,
   "metadata": {},
   "outputs": [
    {
     "name": "stdout",
     "output_type": "stream",
     "text": [
      "👤 Customers with Most Interactions:\n",
      "Customer ID\n",
      "1     2\n",
      "3     2\n",
      "5     2\n",
      "11    2\n",
      "7     2\n",
      "10    2\n",
      "9     2\n",
      "16    2\n",
      "17    2\n",
      "13    2\n",
      "Name: Product Name, dtype: int64\n",
      "\n",
      "⚠️ Customers with Least Interactions:\n",
      "Customer ID\n",
      "66    1\n",
      "76    1\n",
      "79    1\n",
      "91    1\n",
      "92    1\n",
      "84    1\n",
      "81    1\n",
      "82    1\n",
      "85    1\n",
      "95    1\n",
      "Name: Product Name, dtype: int64\n"
     ]
    }
   ],
   "source": [
    "# Count how many unique products each customer has interacted with\n",
    "customer_interaction_counts = merged_df.groupby(\"Customer ID\")[\"Product Name\"].nunique().sort_values(ascending=False)\n",
    "\n",
    "# Display top 10 customers with most interactions\n",
    "print(\"👤 Customers with Most Interactions:\")\n",
    "print(customer_interaction_counts.head(10))\n",
    "\n",
    "# Display bottom 10 customers with the least interactions\n",
    "print(\"\\n⚠️ Customers with Least Interactions:\")\n",
    "print(customer_interaction_counts.tail(10))\n"
   ]
  },
  {
   "cell_type": "code",
   "execution_count": 312,
   "metadata": {},
   "outputs": [
    {
     "name": "stdout",
     "output_type": "stream",
     "text": [
      "🔍 Number of Products Bought by Only 1 Customer: 0\n",
      "\n",
      "🛑 Products Bought by Only One Customer:\n",
      "[]\n"
     ]
    }
   ],
   "source": [
    "# Find products bought by only one customer\n",
    "single_buyer_products = product_interaction_counts[product_interaction_counts == 1]\n",
    "\n",
    "print(f\"🔍 Number of Products Bought by Only 1 Customer: {len(single_buyer_products)}\")\n",
    "print(\"\\n🛑 Products Bought by Only One Customer:\")\n",
    "print(single_buyer_products.index.tolist())\n"
   ]
  },
  {
   "cell_type": "code",
   "execution_count": 313,
   "metadata": {},
   "outputs": [
    {
     "name": "stdout",
     "output_type": "stream",
     "text": [
      "🔍 Number of Customers Who Bought Only 1 Product: 31\n",
      "\n",
      "⚠️ Customers Who Bought Only One Product:\n",
      "[20, 22, 18, 15, 14, 6, 8, 2, 4, 23, 57, 40, 31, 37, 48, 62, 58, 74, 78, 73, 72, 66, 76, 79, 91, 92, 84, 81, 82, 85, 95]\n"
     ]
    }
   ],
   "source": [
    "# Find customers who bought only one product\n",
    "single_product_customers = customer_interaction_counts[customer_interaction_counts == 1]\n",
    "\n",
    "print(f\"🔍 Number of Customers Who Bought Only 1 Product: {len(single_product_customers)}\")\n",
    "print(\"\\n⚠️ Customers Who Bought Only One Product:\")\n",
    "print(single_product_customers.index.tolist())\n"
   ]
  },
  {
   "cell_type": "code",
   "execution_count": null,
   "metadata": {},
   "outputs": [],
   "source": []
  }
 ],
 "metadata": {
  "kernelspec": {
   "display_name": "venv",
   "language": "python",
   "name": "python3"
  },
  "language_info": {
   "codemirror_mode": {
    "name": "ipython",
    "version": 3
   },
   "file_extension": ".py",
   "mimetype": "text/x-python",
   "name": "python",
   "nbconvert_exporter": "python",
   "pygments_lexer": "ipython3",
   "version": "3.13.2"
  }
 },
 "nbformat": 4,
 "nbformat_minor": 2
}
